{
 "cells": [
  {
   "cell_type": "code",
   "execution_count": 1,
   "id": "92e7baf0",
   "metadata": {},
   "outputs": [
    {
     "data": {
      "text/plain": [
       "'/Users/krishnacharanbhola/Desktop/MAMBA/sem7/DM'"
      ]
     },
     "execution_count": 1,
     "metadata": {},
     "output_type": "execute_result"
    }
   ],
   "source": [
    "pwd"
   ]
  },
  {
   "cell_type": "code",
   "execution_count": 2,
   "id": "584b3ccc",
   "metadata": {},
   "outputs": [],
   "source": [
    "import csv\n",
    "import numpy as np"
   ]
  },
  {
   "cell_type": "code",
   "execution_count": 4,
   "id": "ae543ec6",
   "metadata": {},
   "outputs": [
    {
     "name": "stdout",
     "output_type": "stream",
     "text": [
      "[[     nan      nan      nan      nan      nan      nan]\n",
      " [1.00e+00 5.10e+00 3.50e+00 1.40e+00 2.00e-01      nan]\n",
      " [2.00e+00 4.90e+00 3.00e+00 1.40e+00 2.00e-01      nan]\n",
      " [3.00e+00 4.70e+00 3.20e+00 1.30e+00 2.00e-01      nan]\n",
      " [4.00e+00 4.60e+00 3.10e+00 1.50e+00 2.00e-01      nan]\n",
      " [5.00e+00 5.00e+00 3.60e+00 1.40e+00 2.00e-01      nan]\n",
      " [6.00e+00 5.40e+00 3.90e+00 1.70e+00 4.00e-01      nan]\n",
      " [7.00e+00 4.60e+00 3.40e+00 1.40e+00 3.00e-01      nan]\n",
      " [8.00e+00 5.00e+00 3.40e+00 1.50e+00 2.00e-01      nan]\n",
      " [9.00e+00 4.40e+00 2.90e+00 1.40e+00 2.00e-01      nan]\n",
      " [1.00e+01 4.90e+00 3.10e+00 1.50e+00 1.00e-01      nan]\n",
      " [1.10e+01 5.40e+00 3.70e+00 1.50e+00 2.00e-01      nan]\n",
      " [1.20e+01 4.80e+00 3.40e+00 1.60e+00 2.00e-01      nan]\n",
      " [1.30e+01 4.80e+00 3.00e+00 1.40e+00 1.00e-01      nan]\n",
      " [1.40e+01 4.30e+00 3.00e+00 1.10e+00 1.00e-01      nan]\n",
      " [1.50e+01 5.80e+00 4.00e+00 1.20e+00 2.00e-01      nan]\n",
      " [1.60e+01 5.70e+00 4.40e+00 1.50e+00 4.00e-01      nan]\n",
      " [1.70e+01 5.40e+00 3.90e+00 1.30e+00 4.00e-01      nan]\n",
      " [1.80e+01 5.10e+00 3.50e+00 1.40e+00 3.00e-01      nan]\n",
      " [1.90e+01 5.70e+00 3.80e+00 1.70e+00 3.00e-01      nan]\n",
      " [2.00e+01 5.10e+00 3.80e+00 1.50e+00 3.00e-01      nan]\n",
      " [2.10e+01 5.40e+00 3.40e+00 1.70e+00 2.00e-01      nan]\n",
      " [2.20e+01 5.10e+00 3.70e+00 1.50e+00 4.00e-01      nan]\n",
      " [2.30e+01 4.60e+00 3.60e+00 1.00e+00 2.00e-01      nan]\n",
      " [2.40e+01 5.10e+00 3.30e+00 1.70e+00 5.00e-01      nan]\n",
      " [2.50e+01 4.80e+00 3.40e+00 1.90e+00 2.00e-01      nan]\n",
      " [2.60e+01 5.00e+00 3.00e+00 1.60e+00 2.00e-01      nan]\n",
      " [2.70e+01 5.00e+00 3.40e+00 1.60e+00 4.00e-01      nan]\n",
      " [2.80e+01 5.20e+00 3.50e+00 1.50e+00 2.00e-01      nan]\n",
      " [2.90e+01 5.20e+00 3.40e+00 1.40e+00 2.00e-01      nan]\n",
      " [3.00e+01 4.70e+00 3.20e+00 1.60e+00 2.00e-01      nan]\n",
      " [3.10e+01 4.80e+00 3.10e+00 1.60e+00 2.00e-01      nan]\n",
      " [3.20e+01 5.40e+00 3.40e+00 1.50e+00 4.00e-01      nan]\n",
      " [3.30e+01 5.20e+00 4.10e+00 1.50e+00 1.00e-01      nan]\n",
      " [3.40e+01 5.50e+00 4.20e+00 1.40e+00 2.00e-01      nan]\n",
      " [3.50e+01 4.90e+00 3.10e+00 1.50e+00 1.00e-01      nan]\n",
      " [3.60e+01 5.00e+00 3.20e+00 1.20e+00 2.00e-01      nan]\n",
      " [3.70e+01 5.50e+00 3.50e+00 1.30e+00 2.00e-01      nan]\n",
      " [3.80e+01 4.90e+00 3.10e+00 1.50e+00 1.00e-01      nan]\n",
      " [3.90e+01 4.40e+00 3.00e+00 1.30e+00 2.00e-01      nan]\n",
      " [4.00e+01 5.10e+00 3.40e+00 1.50e+00 2.00e-01      nan]\n",
      " [4.10e+01 5.00e+00 3.50e+00 1.30e+00 3.00e-01      nan]\n",
      " [4.20e+01 4.50e+00 2.30e+00 1.30e+00 3.00e-01      nan]\n",
      " [4.30e+01 4.40e+00 3.20e+00 1.30e+00 2.00e-01      nan]\n",
      " [4.40e+01 5.00e+00 3.50e+00 1.60e+00 6.00e-01      nan]\n",
      " [4.50e+01 5.10e+00 3.80e+00 1.90e+00 4.00e-01      nan]\n",
      " [4.60e+01 4.80e+00 3.00e+00 1.40e+00 3.00e-01      nan]\n",
      " [4.70e+01 5.10e+00 3.80e+00 1.60e+00 2.00e-01      nan]\n",
      " [4.80e+01 4.60e+00 3.20e+00 1.40e+00 2.00e-01      nan]\n",
      " [4.90e+01 5.30e+00 3.70e+00 1.50e+00 2.00e-01      nan]\n",
      " [5.00e+01 5.00e+00 3.30e+00 1.40e+00 2.00e-01      nan]\n",
      " [5.10e+01 7.00e+00 3.20e+00 4.70e+00 1.40e+00      nan]\n",
      " [5.20e+01 6.40e+00 3.20e+00 4.50e+00 1.50e+00      nan]\n",
      " [5.30e+01 6.90e+00 3.10e+00 4.90e+00 1.50e+00      nan]\n",
      " [5.40e+01 5.50e+00 2.30e+00 4.00e+00 1.30e+00      nan]\n",
      " [5.50e+01 6.50e+00 2.80e+00 4.60e+00 1.50e+00      nan]\n",
      " [5.60e+01 5.70e+00 2.80e+00 4.50e+00 1.30e+00      nan]\n",
      " [5.70e+01 6.30e+00 3.30e+00 4.70e+00 1.60e+00      nan]\n",
      " [5.80e+01 4.90e+00 2.40e+00 3.30e+00 1.00e+00      nan]\n",
      " [5.90e+01 6.60e+00 2.90e+00 4.60e+00 1.30e+00      nan]\n",
      " [6.00e+01 5.20e+00 2.70e+00 3.90e+00 1.40e+00      nan]\n",
      " [6.10e+01 5.00e+00 2.00e+00 3.50e+00 1.00e+00      nan]\n",
      " [6.20e+01 5.90e+00 3.00e+00 4.20e+00 1.50e+00      nan]\n",
      " [6.30e+01 6.00e+00 2.20e+00 4.00e+00 1.00e+00      nan]\n",
      " [6.40e+01 6.10e+00 2.90e+00 4.70e+00 1.40e+00      nan]\n",
      " [6.50e+01 5.60e+00 2.90e+00 3.60e+00 1.30e+00      nan]\n",
      " [6.60e+01 6.70e+00 3.10e+00 4.40e+00 1.40e+00      nan]\n",
      " [6.70e+01 5.60e+00 3.00e+00 4.50e+00 1.50e+00      nan]\n",
      " [6.80e+01 5.80e+00 2.70e+00 4.10e+00 1.00e+00      nan]\n",
      " [6.90e+01 6.20e+00 2.20e+00 4.50e+00 1.50e+00      nan]\n",
      " [7.00e+01 5.60e+00 2.50e+00 3.90e+00 1.10e+00      nan]\n",
      " [7.10e+01 5.90e+00 3.20e+00 4.80e+00 1.80e+00      nan]\n",
      " [7.20e+01 6.10e+00 2.80e+00 4.00e+00 1.30e+00      nan]\n",
      " [7.30e+01 6.30e+00 2.50e+00 4.90e+00 1.50e+00      nan]\n",
      " [7.40e+01 6.10e+00 2.80e+00 4.70e+00 1.20e+00      nan]\n",
      " [7.50e+01 6.40e+00 2.90e+00 4.30e+00 1.30e+00      nan]\n",
      " [7.60e+01 6.60e+00 3.00e+00 4.40e+00 1.40e+00      nan]\n",
      " [7.70e+01 6.80e+00 2.80e+00 4.80e+00 1.40e+00      nan]\n",
      " [7.80e+01 6.70e+00 3.00e+00 5.00e+00 1.70e+00      nan]\n",
      " [7.90e+01 6.00e+00 2.90e+00 4.50e+00 1.50e+00      nan]\n",
      " [8.00e+01 5.70e+00 2.60e+00 3.50e+00 1.00e+00      nan]\n",
      " [8.10e+01 5.50e+00 2.40e+00 3.80e+00 1.10e+00      nan]\n",
      " [8.20e+01 5.50e+00 2.40e+00 3.70e+00 1.00e+00      nan]\n",
      " [8.30e+01 5.80e+00 2.70e+00 3.90e+00 1.20e+00      nan]\n",
      " [8.40e+01 6.00e+00 2.70e+00 5.10e+00 1.60e+00      nan]\n",
      " [8.50e+01 5.40e+00 3.00e+00 4.50e+00 1.50e+00      nan]\n",
      " [8.60e+01 6.00e+00 3.40e+00 4.50e+00 1.60e+00      nan]\n",
      " [8.70e+01 6.70e+00 3.10e+00 4.70e+00 1.50e+00      nan]\n",
      " [8.80e+01 6.30e+00 2.30e+00 4.40e+00 1.30e+00      nan]\n",
      " [8.90e+01 5.60e+00 3.00e+00 4.10e+00 1.30e+00      nan]\n",
      " [9.00e+01 5.50e+00 2.50e+00 4.00e+00 1.30e+00      nan]\n",
      " [9.10e+01 5.50e+00 2.60e+00 4.40e+00 1.20e+00      nan]\n",
      " [9.20e+01 6.10e+00 3.00e+00 4.60e+00 1.40e+00      nan]\n",
      " [9.30e+01 5.80e+00 2.60e+00 4.00e+00 1.20e+00      nan]\n",
      " [9.40e+01 5.00e+00 2.30e+00 3.30e+00 1.00e+00      nan]\n",
      " [9.50e+01 5.60e+00 2.70e+00 4.20e+00 1.30e+00      nan]\n",
      " [9.60e+01 5.70e+00 3.00e+00 4.20e+00 1.20e+00      nan]\n",
      " [9.70e+01 5.70e+00 2.90e+00 4.20e+00 1.30e+00      nan]\n",
      " [9.80e+01 6.20e+00 2.90e+00 4.30e+00 1.30e+00      nan]\n",
      " [9.90e+01 5.10e+00 2.50e+00 3.00e+00 1.10e+00      nan]\n",
      " [1.00e+02 5.70e+00 2.80e+00 4.10e+00 1.30e+00      nan]\n",
      " [1.01e+02 6.30e+00 3.30e+00 6.00e+00 2.50e+00      nan]\n",
      " [1.02e+02 5.80e+00 2.70e+00 5.10e+00 1.90e+00      nan]\n",
      " [1.03e+02 7.10e+00 3.00e+00 5.90e+00 2.10e+00      nan]\n",
      " [1.04e+02 6.30e+00 2.90e+00 5.60e+00 1.80e+00      nan]\n",
      " [1.05e+02 6.50e+00 3.00e+00 5.80e+00 2.20e+00      nan]\n",
      " [1.06e+02 7.60e+00 3.00e+00 6.60e+00 2.10e+00      nan]\n",
      " [1.07e+02 4.90e+00 2.50e+00 4.50e+00 1.70e+00      nan]\n",
      " [1.08e+02 7.30e+00 2.90e+00 6.30e+00 1.80e+00      nan]\n",
      " [1.09e+02 6.70e+00 2.50e+00 5.80e+00 1.80e+00      nan]\n",
      " [1.10e+02 7.20e+00 3.60e+00 6.10e+00 2.50e+00      nan]\n",
      " [1.11e+02 6.50e+00 3.20e+00 5.10e+00 2.00e+00      nan]\n",
      " [1.12e+02 6.40e+00 2.70e+00 5.30e+00 1.90e+00      nan]\n",
      " [1.13e+02 6.80e+00 3.00e+00 5.50e+00 2.10e+00      nan]\n",
      " [1.14e+02 5.70e+00 2.50e+00 5.00e+00 2.00e+00      nan]\n",
      " [1.15e+02 5.80e+00 2.80e+00 5.10e+00 2.40e+00      nan]\n",
      " [1.16e+02 6.40e+00 3.20e+00 5.30e+00 2.30e+00      nan]\n",
      " [1.17e+02 6.50e+00 3.00e+00 5.50e+00 1.80e+00      nan]\n",
      " [1.18e+02 7.70e+00 3.80e+00 6.70e+00 2.20e+00      nan]\n",
      " [1.19e+02 7.70e+00 2.60e+00 6.90e+00 2.30e+00      nan]\n",
      " [1.20e+02 6.00e+00 2.20e+00 5.00e+00 1.50e+00      nan]\n",
      " [1.21e+02 6.90e+00 3.20e+00 5.70e+00 2.30e+00      nan]\n",
      " [1.22e+02 5.60e+00 2.80e+00 4.90e+00 2.00e+00      nan]\n",
      " [1.23e+02 7.70e+00 2.80e+00 6.70e+00 2.00e+00      nan]\n",
      " [1.24e+02 6.30e+00 2.70e+00 4.90e+00 1.80e+00      nan]\n",
      " [1.25e+02 6.70e+00 3.30e+00 5.70e+00 2.10e+00      nan]\n",
      " [1.26e+02 7.20e+00 3.20e+00 6.00e+00 1.80e+00      nan]\n",
      " [1.27e+02 6.20e+00 2.80e+00 4.80e+00 1.80e+00      nan]\n",
      " [1.28e+02 6.10e+00 3.00e+00 4.90e+00 1.80e+00      nan]\n",
      " [1.29e+02 6.40e+00 2.80e+00 5.60e+00 2.10e+00      nan]\n",
      " [1.30e+02 7.20e+00 3.00e+00 5.80e+00 1.60e+00      nan]\n",
      " [1.31e+02 7.40e+00 2.80e+00 6.10e+00 1.90e+00      nan]\n",
      " [1.32e+02 7.90e+00 3.80e+00 6.40e+00 2.00e+00      nan]\n",
      " [1.33e+02 6.40e+00 2.80e+00 5.60e+00 2.20e+00      nan]\n",
      " [1.34e+02 6.30e+00 2.80e+00 5.10e+00 1.50e+00      nan]\n",
      " [1.35e+02 6.10e+00 2.60e+00 5.60e+00 1.40e+00      nan]\n",
      " [1.36e+02 7.70e+00 3.00e+00 6.10e+00 2.30e+00      nan]\n",
      " [1.37e+02 6.30e+00 3.40e+00 5.60e+00 2.40e+00      nan]\n",
      " [1.38e+02 6.40e+00 3.10e+00 5.50e+00 1.80e+00      nan]\n",
      " [1.39e+02 6.00e+00 3.00e+00 4.80e+00 1.80e+00      nan]\n",
      " [1.40e+02 6.90e+00 3.10e+00 5.40e+00 2.10e+00      nan]\n",
      " [1.41e+02 6.70e+00 3.10e+00 5.60e+00 2.40e+00      nan]\n",
      " [1.42e+02 6.90e+00 3.10e+00 5.10e+00 2.30e+00      nan]\n",
      " [1.43e+02 5.80e+00 2.70e+00 5.10e+00 1.90e+00      nan]\n",
      " [1.44e+02 6.80e+00 3.20e+00 5.90e+00 2.30e+00      nan]\n",
      " [1.45e+02 6.70e+00 3.30e+00 5.70e+00 2.50e+00      nan]\n",
      " [1.46e+02 6.70e+00 3.00e+00 5.20e+00 2.30e+00      nan]\n",
      " [1.47e+02 6.30e+00 2.50e+00 5.00e+00 1.90e+00      nan]\n",
      " [1.48e+02 6.50e+00 3.00e+00 5.20e+00 2.00e+00      nan]\n",
      " [1.49e+02 6.20e+00 3.40e+00 5.40e+00 2.30e+00      nan]\n",
      " [1.50e+02 5.90e+00 3.00e+00 5.10e+00 1.80e+00      nan]]\n"
     ]
    }
   ],
   "source": [
    "matrix = np.genfromtxt('iris.csv', delimiter=',')\n",
    "print(matrix)"
   ]
  },
  {
   "cell_type": "code",
   "execution_count": 28,
   "id": "874e0725",
   "metadata": {},
   "outputs": [
    {
     "data": {
      "text/plain": [
       "[['Id',\n",
       "  'SepalLengthCm',\n",
       "  'SepalWidthCm',\n",
       "  'PetalLengthCm',\n",
       "  'PetalWidthCm',\n",
       "  'Species'],\n",
       " ['1', '5.1', '3.5', '1.4', '0.2', 'Iris-setosa'],\n",
       " ['2', '4.9', '3.0', '1.4', '0.2', 'Iris-setosa'],\n",
       " ['3', '4.7', '3.2', '1.3', '0.2', 'Iris-setosa'],\n",
       " ['4', '4.6', '3.1', '1.5', '0.2', 'Iris-setosa'],\n",
       " ['5', '5.0', '3.6', '1.4', '0.2', 'Iris-setosa'],\n",
       " ['6', '5.4', '3.9', '1.7', '0.4', 'Iris-setosa'],\n",
       " ['7', '4.6', '3.4', '1.4', '0.3', 'Iris-setosa'],\n",
       " ['8', '5.0', '3.4', '1.5', '0.2', 'Iris-setosa'],\n",
       " ['9', '4.4', '2.9', '1.4', '0.2', 'Iris-setosa'],\n",
       " ['10', '4.9', '3.1', '1.5', '0.1', 'Iris-setosa'],\n",
       " ['11', '5.4', '3.7', '1.5', '0.2', 'Iris-setosa'],\n",
       " ['12', '4.8', '3.4', '1.6', '0.2', 'Iris-setosa'],\n",
       " ['13', '4.8', '3.0', '1.4', '0.1', 'Iris-setosa'],\n",
       " ['14', '4.3', '3.0', '1.1', '0.1', 'Iris-setosa'],\n",
       " ['15', '5.8', '4.0', '1.2', '0.2', 'Iris-setosa'],\n",
       " ['16', '5.7', '4.4', '1.5', '0.4', 'Iris-setosa'],\n",
       " ['17', '5.4', '3.9', '1.3', '0.4', 'Iris-setosa'],\n",
       " ['18', '5.1', '3.5', '1.4', '0.3', 'Iris-setosa'],\n",
       " ['19', '5.7', '3.8', '1.7', '0.3', 'Iris-setosa'],\n",
       " ['20', '5.1', '3.8', '1.5', '0.3', 'Iris-setosa'],\n",
       " ['21', '5.4', '3.4', '1.7', '0.2', 'Iris-setosa'],\n",
       " ['22', '5.1', '3.7', '1.5', '0.4', 'Iris-setosa'],\n",
       " ['23', '4.6', '3.6', '1.0', '0.2', 'Iris-setosa'],\n",
       " ['24', '5.1', '3.3', '1.7', '0.5', 'Iris-setosa'],\n",
       " ['25', '4.8', '3.4', '1.9', '0.2', 'Iris-setosa'],\n",
       " ['26', '5.0', '3.0', '1.6', '0.2', 'Iris-setosa'],\n",
       " ['27', '5.0', '3.4', '1.6', '0.4', 'Iris-setosa'],\n",
       " ['28', '5.2', '3.5', '1.5', '0.2', 'Iris-setosa'],\n",
       " ['29', '5.2', '3.4', '1.4', '0.2', 'Iris-setosa'],\n",
       " ['30', '4.7', '3.2', '1.6', '0.2', 'Iris-setosa'],\n",
       " ['31', '4.8', '3.1', '1.6', '0.2', 'Iris-setosa'],\n",
       " ['32', '5.4', '3.4', '1.5', '0.4', 'Iris-setosa'],\n",
       " ['33', '5.2', '4.1', '1.5', '0.1', 'Iris-setosa'],\n",
       " ['34', '5.5', '4.2', '1.4', '0.2', 'Iris-setosa'],\n",
       " ['35', '4.9', '3.1', '1.5', '0.1', 'Iris-setosa'],\n",
       " ['36', '5.0', '3.2', '1.2', '0.2', 'Iris-setosa'],\n",
       " ['37', '5.5', '3.5', '1.3', '0.2', 'Iris-setosa'],\n",
       " ['38', '4.9', '3.1', '1.5', '0.1', 'Iris-setosa'],\n",
       " ['39', '4.4', '3.0', '1.3', '0.2', 'Iris-setosa'],\n",
       " ['40', '5.1', '3.4', '1.5', '0.2', 'Iris-setosa'],\n",
       " ['41', '5.0', '3.5', '1.3', '0.3', 'Iris-setosa'],\n",
       " ['42', '4.5', '2.3', '1.3', '0.3', 'Iris-setosa'],\n",
       " ['43', '4.4', '3.2', '1.3', '0.2', 'Iris-setosa'],\n",
       " ['44', '5.0', '3.5', '1.6', '0.6', 'Iris-setosa'],\n",
       " ['45', '5.1', '3.8', '1.9', '0.4', 'Iris-setosa'],\n",
       " ['46', '4.8', '3.0', '1.4', '0.3', 'Iris-setosa'],\n",
       " ['47', '5.1', '3.8', '1.6', '0.2', 'Iris-setosa'],\n",
       " ['48', '4.6', '3.2', '1.4', '0.2', 'Iris-setosa'],\n",
       " ['49', '5.3', '3.7', '1.5', '0.2', 'Iris-setosa'],\n",
       " ['50', '5.0', '3.3', '1.4', '0.2', 'Iris-setosa'],\n",
       " ['51', '7.0', '3.2', '4.7', '1.4', 'Iris-versicolor'],\n",
       " ['52', '6.4', '3.2', '4.5', '1.5', 'Iris-versicolor'],\n",
       " ['53', '6.9', '3.1', '4.9', '1.5', 'Iris-versicolor'],\n",
       " ['54', '5.5', '2.3', '4.0', '1.3', 'Iris-versicolor'],\n",
       " ['55', '6.5', '2.8', '4.6', '1.5', 'Iris-versicolor'],\n",
       " ['56', '5.7', '2.8', '4.5', '1.3', 'Iris-versicolor'],\n",
       " ['57', '6.3', '3.3', '4.7', '1.6', 'Iris-versicolor'],\n",
       " ['58', '4.9', '2.4', '3.3', '1.0', 'Iris-versicolor'],\n",
       " ['59', '6.6', '2.9', '4.6', '1.3', 'Iris-versicolor'],\n",
       " ['60', '5.2', '2.7', '3.9', '1.4', 'Iris-versicolor'],\n",
       " ['61', '5.0', '2.0', '3.5', '1.0', 'Iris-versicolor'],\n",
       " ['62', '5.9', '3.0', '4.2', '1.5', 'Iris-versicolor'],\n",
       " ['63', '6.0', '2.2', '4.0', '1.0', 'Iris-versicolor'],\n",
       " ['64', '6.1', '2.9', '4.7', '1.4', 'Iris-versicolor'],\n",
       " ['65', '5.6', '2.9', '3.6', '1.3', 'Iris-versicolor'],\n",
       " ['66', '6.7', '3.1', '4.4', '1.4', 'Iris-versicolor'],\n",
       " ['67', '5.6', '3.0', '4.5', '1.5', 'Iris-versicolor'],\n",
       " ['68', '5.8', '2.7', '4.1', '1.0', 'Iris-versicolor'],\n",
       " ['69', '6.2', '2.2', '4.5', '1.5', 'Iris-versicolor'],\n",
       " ['70', '5.6', '2.5', '3.9', '1.1', 'Iris-versicolor'],\n",
       " ['71', '5.9', '3.2', '4.8', '1.8', 'Iris-versicolor'],\n",
       " ['72', '6.1', '2.8', '4.0', '1.3', 'Iris-versicolor'],\n",
       " ['73', '6.3', '2.5', '4.9', '1.5', 'Iris-versicolor'],\n",
       " ['74', '6.1', '2.8', '4.7', '1.2', 'Iris-versicolor'],\n",
       " ['75', '6.4', '2.9', '4.3', '1.3', 'Iris-versicolor'],\n",
       " ['76', '6.6', '3.0', '4.4', '1.4', 'Iris-versicolor'],\n",
       " ['77', '6.8', '2.8', '4.8', '1.4', 'Iris-versicolor'],\n",
       " ['78', '6.7', '3.0', '5.0', '1.7', 'Iris-versicolor'],\n",
       " ['79', '6.0', '2.9', '4.5', '1.5', 'Iris-versicolor'],\n",
       " ['80', '5.7', '2.6', '3.5', '1.0', 'Iris-versicolor'],\n",
       " ['81', '5.5', '2.4', '3.8', '1.1', 'Iris-versicolor'],\n",
       " ['82', '5.5', '2.4', '3.7', '1.0', 'Iris-versicolor'],\n",
       " ['83', '5.8', '2.7', '3.9', '1.2', 'Iris-versicolor'],\n",
       " ['84', '6.0', '2.7', '5.1', '1.6', 'Iris-versicolor'],\n",
       " ['85', '5.4', '3.0', '4.5', '1.5', 'Iris-versicolor'],\n",
       " ['86', '6.0', '3.4', '4.5', '1.6', 'Iris-versicolor'],\n",
       " ['87', '6.7', '3.1', '4.7', '1.5', 'Iris-versicolor'],\n",
       " ['88', '6.3', '2.3', '4.4', '1.3', 'Iris-versicolor'],\n",
       " ['89', '5.6', '3.0', '4.1', '1.3', 'Iris-versicolor'],\n",
       " ['90', '5.5', '2.5', '4.0', '1.3', 'Iris-versicolor'],\n",
       " ['91', '5.5', '2.6', '4.4', '1.2', 'Iris-versicolor'],\n",
       " ['92', '6.1', '3.0', '4.6', '1.4', 'Iris-versicolor'],\n",
       " ['93', '5.8', '2.6', '4.0', '1.2', 'Iris-versicolor'],\n",
       " ['94', '5.0', '2.3', '3.3', '1.0', 'Iris-versicolor'],\n",
       " ['95', '5.6', '2.7', '4.2', '1.3', 'Iris-versicolor'],\n",
       " ['96', '5.7', '3.0', '4.2', '1.2', 'Iris-versicolor'],\n",
       " ['97', '5.7', '2.9', '4.2', '1.3', 'Iris-versicolor'],\n",
       " ['98', '6.2', '2.9', '4.3', '1.3', 'Iris-versicolor'],\n",
       " ['99', '5.1', '2.5', '3.0', '1.1', 'Iris-versicolor'],\n",
       " ['100', '5.7', '2.8', '4.1', '1.3', 'Iris-versicolor'],\n",
       " ['101', '6.3', '3.3', '6.0', '2.5', 'Iris-virginica'],\n",
       " ['102', '5.8', '2.7', '5.1', '1.9', 'Iris-virginica'],\n",
       " ['103', '7.1', '3.0', '5.9', '2.1', 'Iris-virginica'],\n",
       " ['104', '6.3', '2.9', '5.6', '1.8', 'Iris-virginica'],\n",
       " ['105', '6.5', '3.0', '5.8', '2.2', 'Iris-virginica'],\n",
       " ['106', '7.6', '3.0', '6.6', '2.1', 'Iris-virginica'],\n",
       " ['107', '4.9', '2.5', '4.5', '1.7', 'Iris-virginica'],\n",
       " ['108', '7.3', '2.9', '6.3', '1.8', 'Iris-virginica'],\n",
       " ['109', '6.7', '2.5', '5.8', '1.8', 'Iris-virginica'],\n",
       " ['110', '7.2', '3.6', '6.1', '2.5', 'Iris-virginica'],\n",
       " ['111', '6.5', '3.2', '5.1', '2.0', 'Iris-virginica'],\n",
       " ['112', '6.4', '2.7', '5.3', '1.9', 'Iris-virginica'],\n",
       " ['113', '6.8', '3.0', '5.5', '2.1', 'Iris-virginica'],\n",
       " ['114', '5.7', '2.5', '5.0', '2.0', 'Iris-virginica'],\n",
       " ['115', '5.8', '2.8', '5.1', '2.4', 'Iris-virginica'],\n",
       " ['116', '6.4', '3.2', '5.3', '2.3', 'Iris-virginica'],\n",
       " ['117', '6.5', '3.0', '5.5', '1.8', 'Iris-virginica'],\n",
       " ['118', '7.7', '3.8', '6.7', '2.2', 'Iris-virginica'],\n",
       " ['119', '7.7', '2.6', '6.9', '2.3', 'Iris-virginica'],\n",
       " ['120', '6.0', '2.2', '5.0', '1.5', 'Iris-virginica'],\n",
       " ['121', '6.9', '3.2', '5.7', '2.3', 'Iris-virginica'],\n",
       " ['122', '5.6', '2.8', '4.9', '2.0', 'Iris-virginica'],\n",
       " ['123', '7.7', '2.8', '6.7', '2.0', 'Iris-virginica'],\n",
       " ['124', '6.3', '2.7', '4.9', '1.8', 'Iris-virginica'],\n",
       " ['125', '6.7', '3.3', '5.7', '2.1', 'Iris-virginica'],\n",
       " ['126', '7.2', '3.2', '6.0', '1.8', 'Iris-virginica'],\n",
       " ['127', '6.2', '2.8', '4.8', '1.8', 'Iris-virginica'],\n",
       " ['128', '6.1', '3.0', '4.9', '1.8', 'Iris-virginica'],\n",
       " ['129', '6.4', '2.8', '5.6', '2.1', 'Iris-virginica'],\n",
       " ['130', '7.2', '3.0', '5.8', '1.6', 'Iris-virginica'],\n",
       " ['131', '7.4', '2.8', '6.1', '1.9', 'Iris-virginica'],\n",
       " ['132', '7.9', '3.8', '6.4', '2.0', 'Iris-virginica'],\n",
       " ['133', '6.4', '2.8', '5.6', '2.2', 'Iris-virginica'],\n",
       " ['134', '6.3', '2.8', '5.1', '1.5', 'Iris-virginica'],\n",
       " ['135', '6.1', '2.6', '5.6', '1.4', 'Iris-virginica'],\n",
       " ['136', '7.7', '3.0', '6.1', '2.3', 'Iris-virginica'],\n",
       " ['137', '6.3', '3.4', '5.6', '2.4', 'Iris-virginica'],\n",
       " ['138', '6.4', '3.1', '5.5', '1.8', 'Iris-virginica'],\n",
       " ['139', '6.0', '3.0', '4.8', '1.8', 'Iris-virginica'],\n",
       " ['140', '6.9', '3.1', '5.4', '2.1', 'Iris-virginica'],\n",
       " ['141', '6.7', '3.1', '5.6', '2.4', 'Iris-virginica'],\n",
       " ['142', '6.9', '3.1', '5.1', '2.3', 'Iris-virginica'],\n",
       " ['143', '5.8', '2.7', '5.1', '1.9', 'Iris-virginica'],\n",
       " ['144', '6.8', '3.2', '5.9', '2.3', 'Iris-virginica'],\n",
       " ['145', '6.7', '3.3', '5.7', '2.5', 'Iris-virginica'],\n",
       " ['146', '6.7', '3.0', '5.2', '2.3', 'Iris-virginica'],\n",
       " ['147', '6.3', '2.5', '5.0', '1.9', 'Iris-virginica'],\n",
       " ['148', '6.5', '3.0', '5.2', '2.0', 'Iris-virginica'],\n",
       " ['149', '6.2', '3.4', '5.4', '2.3', 'Iris-virginica'],\n",
       " ['150', '5.9', '3.0', '5.1', '1.8', 'Iris-virginica']]"
      ]
     },
     "execution_count": 28,
     "metadata": {},
     "output_type": "execute_result"
    }
   ],
   "source": [
    "data = []  # List to store the data\n",
    "with open('iris.csv', 'r') as csvfile:\n",
    "    csvreader = csv.reader(csvfile)\n",
    "    for row in csvreader:\n",
    "        data.append(row)\n",
    "data"
   ]
  },
  {
   "cell_type": "code",
   "execution_count": 19,
   "id": "5bc9738f",
   "metadata": {},
   "outputs": [
    {
     "data": {
      "text/plain": [
       "array(['3.5', '3.0', '3.2', '3.1', '3.6', '3.9', '3.4', '3.4', '2.9',\n",
       "       '3.1', '3.7', '3.4', '3.0', '3.0', '4.0', '4.4', '3.9', '3.5',\n",
       "       '3.8', '3.8', '3.4', '3.7', '3.6', '3.3', '3.4', '3.0', '3.4',\n",
       "       '3.5', '3.4', '3.2', '3.1', '3.4', '4.1', '4.2', '3.1', '3.2',\n",
       "       '3.5', '3.1', '3.0', '3.4', '3.5', '2.3', '3.2', '3.5', '3.8',\n",
       "       '3.0', '3.8', '3.2', '3.7', '3.3', '3.2', '3.2', '3.1', '2.3',\n",
       "       '2.8', '2.8', '3.3', '2.4', '2.9', '2.7', '2.0', '3.0', '2.2',\n",
       "       '2.9', '2.9', '3.1', '3.0', '2.7', '2.2', '2.5', '3.2', '2.8',\n",
       "       '2.5', '2.8', '2.9', '3.0', '2.8', '3.0', '2.9', '2.6', '2.4',\n",
       "       '2.4', '2.7', '2.7', '3.0', '3.4', '3.1', '2.3', '3.0', '2.5',\n",
       "       '2.6', '3.0', '2.6', '2.3', '2.7', '3.0', '2.9', '2.9', '2.5',\n",
       "       '2.8', '3.3', '2.7', '3.0', '2.9', '3.0', '3.0', '2.5', '2.9',\n",
       "       '2.5', '3.6', '3.2', '2.7', '3.0', '2.5', '2.8', '3.2', '3.0',\n",
       "       '3.8', '2.6', '2.2', '3.2', '2.8', '2.8', '2.7', '3.3', '3.2',\n",
       "       '2.8', '3.0', '2.8', '3.0', '2.8', '3.8', '2.8', '2.8', '2.6',\n",
       "       '3.0', '3.4', '3.1', '3.0', '3.1', '3.1', '3.1', '2.7', '3.2',\n",
       "       '3.3', '3.0', '2.5', '3.0', '3.4', '3.0'], dtype='<U15')"
      ]
     },
     "execution_count": 19,
     "metadata": {},
     "output_type": "execute_result"
    }
   ],
   "source": [
    "matrix = np.array(data)\n",
    "matrix[1:,2]\n"
   ]
  },
  {
   "cell_type": "code",
   "execution_count": 30,
   "id": "0bb43d8b",
   "metadata": {},
   "outputs": [
    {
     "data": {
      "text/plain": [
       "array([5.1, 4.9, 4.7, 4.6, 5. , 5.4, 4.6, 5. , 4.4, 4.9, 5.4, 4.8, 4.8,\n",
       "       4.3, 5.8, 5.7, 5.4, 5.1, 5.7, 5.1, 5.4, 5.1, 4.6, 5.1, 4.8, 5. ,\n",
       "       5. , 5.2, 5.2, 4.7, 4.8, 5.4, 5.2, 5.5, 4.9, 5. , 5.5, 4.9, 4.4,\n",
       "       5.1, 5. , 4.5, 4.4, 5. , 5.1, 4.8, 5.1, 4.6, 5.3, 5. , 7. , 6.4,\n",
       "       6.9, 5.5, 6.5, 5.7, 6.3, 4.9, 6.6, 5.2, 5. , 5.9, 6. , 6.1, 5.6,\n",
       "       6.7, 5.6, 5.8, 6.2, 5.6, 5.9, 6.1, 6.3, 6.1, 6.4, 6.6, 6.8, 6.7,\n",
       "       6. , 5.7, 5.5, 5.5, 5.8, 6. , 5.4, 6. , 6.7, 6.3, 5.6, 5.5, 5.5,\n",
       "       6.1, 5.8, 5. , 5.6, 5.7, 5.7, 6.2, 5.1, 5.7, 6.3, 5.8, 7.1, 6.3,\n",
       "       6.5, 7.6, 4.9, 7.3, 6.7, 7.2, 6.5, 6.4, 6.8, 5.7, 5.8, 6.4, 6.5,\n",
       "       7.7, 7.7, 6. , 6.9, 5.6, 7.7, 6.3, 6.7, 7.2, 6.2, 6.1, 6.4, 7.2,\n",
       "       7.4, 7.9, 6.4, 6.3, 6.1, 7.7, 6.3, 6.4, 6. , 6.9, 6.7, 6.9, 5.8,\n",
       "       6.8, 6.7, 6.7, 6.3, 6.5, 6.2, 5.9])"
      ]
     },
     "execution_count": 30,
     "metadata": {},
     "output_type": "execute_result"
    }
   ],
   "source": [
    "col0 = matrix[1:,0].astype(float)\n",
    "col1 = matrix[1:,1].astype(float)\n",
    "col2 = matrix[1:,2].astype(float)\n",
    "col3 = matrix[1:,3].astype(float)\n",
    "\n"
   ]
  },
  {
   "cell_type": "code",
   "execution_count": null,
   "id": "f24db71d",
   "metadata": {},
   "outputs": [],
   "source": []
  },
  {
   "cell_type": "code",
   "execution_count": null,
   "id": "992a8116",
   "metadata": {},
   "outputs": [],
   "source": [
    "#mean, median , mode , midrange , variance and standard deviation"
   ]
  },
  {
   "cell_type": "code",
   "execution_count": 107,
   "id": "13fbaaad",
   "metadata": {},
   "outputs": [],
   "source": [
    "#mean\n",
    "def cal_mean(data):\n",
    "    total_sum = 0\n",
    "    total_values = 0\n",
    "    for value in data:\n",
    "        total_sum += value\n",
    "        total_values += 1\n",
    "    mean = total_sum / total_values\n",
    "    return mean"
   ]
  },
  {
   "cell_type": "code",
   "execution_count": 33,
   "id": "295c39c9",
   "metadata": {},
   "outputs": [
    {
     "data": {
      "text/plain": [
       "3.758666666666666"
      ]
     },
     "execution_count": 33,
     "metadata": {},
     "output_type": "execute_result"
    }
   ],
   "source": [
    "mean = cal_mean(col3)\n",
    "mean\n",
    "com_mean = np.mean(col3)\n"
   ]
  },
  {
   "cell_type": "code",
   "execution_count": 34,
   "id": "c97ab618",
   "metadata": {},
   "outputs": [
    {
     "data": {
      "text/plain": [
       "3.758666666666666"
      ]
     },
     "execution_count": 34,
     "metadata": {},
     "output_type": "execute_result"
    }
   ],
   "source": [
    "com_mean"
   ]
  },
  {
   "cell_type": "code",
   "execution_count": 60,
   "id": "9eb68007",
   "metadata": {},
   "outputs": [],
   "source": [
    "asc_col0 = np.sort(col0)\n",
    "asc_col0\n",
    "trail = np.array([1,2,3,4,5,6,7])\n",
    "#median\n",
    "def cal_median(data):\n",
    "    asc_data = np.sort(data);\n",
    "    size = len(data)\n",
    "    if size%2==0:\n",
    "        median = (asc_data[size//2]+asc_data[(size//2)-1])/2\n",
    "        return median\n",
    "    else:\n",
    "        return asc_data[size//2]"
   ]
  },
  {
   "cell_type": "code",
   "execution_count": 64,
   "id": "8e401293",
   "metadata": {},
   "outputs": [
    {
     "data": {
      "text/plain": [
       "5.8"
      ]
     },
     "execution_count": 64,
     "metadata": {},
     "output_type": "execute_result"
    }
   ],
   "source": [
    "cal_median(col1)"
   ]
  },
  {
   "cell_type": "code",
   "execution_count": 63,
   "id": "790e1301",
   "metadata": {},
   "outputs": [
    {
     "data": {
      "text/plain": [
       "5.8"
      ]
     },
     "execution_count": 63,
     "metadata": {},
     "output_type": "execute_result"
    }
   ],
   "source": [
    "com_median = np.median(col1)\n",
    "com_median"
   ]
  },
  {
   "cell_type": "code",
   "execution_count": 65,
   "id": "51ec6952",
   "metadata": {},
   "outputs": [
    {
     "ename": "AttributeError",
     "evalue": "module 'numpy' has no attribute 'mode'",
     "output_type": "error",
     "traceback": [
      "\u001b[0;31m---------------------------------------------------------------------------\u001b[0m",
      "\u001b[0;31mAttributeError\u001b[0m                            Traceback (most recent call last)",
      "Cell \u001b[0;32mIn[65], line 1\u001b[0m\n\u001b[0;32m----> 1\u001b[0m com_mode \u001b[38;5;241m=\u001b[39m \u001b[43mnp\u001b[49m\u001b[38;5;241;43m.\u001b[39;49m\u001b[43mmode\u001b[49m(col0)\n\u001b[1;32m      2\u001b[0m com_mode\n",
      "File \u001b[0;32m~/anaconda3/lib/python3.10/site-packages/numpy/__init__.py:311\u001b[0m, in \u001b[0;36m__getattr__\u001b[0;34m(attr)\u001b[0m\n\u001b[1;32m    308\u001b[0m     \u001b[38;5;28;01mfrom\u001b[39;00m \u001b[38;5;21;01m.\u001b[39;00m\u001b[38;5;21;01mtesting\u001b[39;00m \u001b[38;5;28;01mimport\u001b[39;00m Tester\n\u001b[1;32m    309\u001b[0m     \u001b[38;5;28;01mreturn\u001b[39;00m Tester\n\u001b[0;32m--> 311\u001b[0m \u001b[38;5;28;01mraise\u001b[39;00m \u001b[38;5;167;01mAttributeError\u001b[39;00m(\u001b[38;5;124m\"\u001b[39m\u001b[38;5;124mmodule \u001b[39m\u001b[38;5;132;01m{!r}\u001b[39;00m\u001b[38;5;124m has no attribute \u001b[39m\u001b[38;5;124m\"\u001b[39m\n\u001b[1;32m    312\u001b[0m                      \u001b[38;5;124m\"\u001b[39m\u001b[38;5;132;01m{!r}\u001b[39;00m\u001b[38;5;124m\"\u001b[39m\u001b[38;5;241m.\u001b[39mformat(\u001b[38;5;18m__name__\u001b[39m, attr))\n",
      "\u001b[0;31mAttributeError\u001b[0m: module 'numpy' has no attribute 'mode'"
     ]
    }
   ],
   "source": [
    "com_mode = np.mode(col0)\n",
    "com_mode"
   ]
  },
  {
   "cell_type": "code",
   "execution_count": 77,
   "id": "7cbfaeb2",
   "metadata": {},
   "outputs": [
    {
     "name": "stdout",
     "output_type": "stream",
     "text": [
      "Element with maximum frequency: 1.5\n"
     ]
    }
   ],
   "source": [
    "#mode\n",
    "data = np.array([1, 2, 2, 3, 3, 3, 4, 4, 4, 4,4,4,4,4, 5, 5, 5, 5, 5,5,5,5])\n",
    "\n",
    "unique_values, counts = np.unique(col0, return_counts=True)\n",
    "\n",
    "max_freq_index = np.argmax(counts)\n",
    "mode = unique_values[max_freq_index]\n",
    "\n",
    "print(\"Element with maximum frequency:\", mode)\n",
    "\n"
   ]
  },
  {
   "cell_type": "code",
   "execution_count": 98,
   "id": "8a924a45",
   "metadata": {},
   "outputs": [],
   "source": [
    "#mid range\n",
    "def midrange(data):\n",
    "    max = np.max(data)\n",
    "    min = np.min(data)\n",
    "    return (max+min)//2\n"
   ]
  },
  {
   "cell_type": "code",
   "execution_count": 100,
   "id": "17c34046",
   "metadata": {},
   "outputs": [
    {
     "data": {
      "text/plain": [
       "3.0"
      ]
     },
     "execution_count": 100,
     "metadata": {},
     "output_type": "execute_result"
    }
   ],
   "source": [
    "midrange = midrange(col3)\n",
    "midrange"
   ]
  },
  {
   "cell_type": "code",
   "execution_count": 114,
   "id": "250ef6b8",
   "metadata": {},
   "outputs": [
    {
     "name": "stdout",
     "output_type": "stream",
     "text": [
      "Variance: 1874.9166666666667\n",
      "Numpy Variance: 1874.9166666666667\n",
      "Variance: 0.6811222222222222\n",
      "Numpy Variance: 0.6811222222222223\n",
      "Variance: 0.1867506666666667\n",
      "Numpy Variance: 0.18675066666666668\n",
      "Variance: 3.0924248888888854\n",
      "Numpy Variance: 3.092424888888889\n"
     ]
    }
   ],
   "source": [
    "def calculate_variance(data):\n",
    "    n = len(data)\n",
    "    mean = cal_mean(data)\n",
    "    squared_diff_sum = sum((x - mean) ** 2 for x in data)\n",
    "    variance = squared_diff_sum / n\n",
    "    return variance\n",
    "\n",
    "# Example usage\n",
    "# Create a list of column names\n",
    "column_names = [col0, col1, col2, col3]\n",
    "\n",
    "# Iterate over the column names and print them\n",
    "for column_name in column_names:\n",
    "    variance_value = calculate_variance(column_name)\n",
    "    print(\"Variance:\", variance_value)\n",
    "    variance_value = np.var(column_name)\n",
    "    print(\"Numpy Variance:\", variance_value)\n",
    "    \n",
    "\n",
    "\n",
    "\n"
   ]
  },
  {
   "cell_type": "code",
   "execution_count": 115,
   "id": "7c4d5379",
   "metadata": {},
   "outputs": [
    {
     "name": "stdout",
     "output_type": "stream",
     "text": [
      "Standard Deviation: 43.300307928081374\n",
      "Numpy Standard Deviation: 43.300307928081374\n",
      "Standard Deviation: 0.8253012917851409\n",
      "Numpy Standard Deviation: 0.8253012917851409\n",
      "Standard Deviation: 0.4321465800705435\n",
      "Numpy Standard Deviation: 0.4321465800705435\n",
      "Standard Deviation: 1.7585291834055201\n",
      "Numpy Standard Deviation: 1.7585291834055212\n"
     ]
    }
   ],
   "source": [
    "#standard deviation\n",
    "import math\n",
    "\n",
    "def calculate_standard_deviation(data):\n",
    "    n = len(data)\n",
    "    mean = sum(data) / n\n",
    "    squared_diff_sum = sum((x - mean) ** 2 for x in data)\n",
    "    variance = squared_diff_sum / n\n",
    "    std_deviation = math.sqrt(variance)\n",
    "    return std_deviation\n",
    "\n",
    "# Example usage\n",
    "data = [1, 2, 3, 4, 5, 6, 7, 8, 9, 10]\n",
    "for column_name in column_names:\n",
    "    std_deviation_value = calculate_standard_deviation(column_name)\n",
    "    print(\"Standard Deviation:\", std_deviation_value)\n",
    "    std_deviation_value = np.std(column_name)\n",
    "    print(\"Numpy Standard Deviation:\", std_deviation_value)\n"
   ]
  },
  {
   "cell_type": "code",
   "execution_count": null,
   "id": "93cd5812",
   "metadata": {},
   "outputs": [],
   "source": []
  }
 ],
 "metadata": {
  "kernelspec": {
   "display_name": "Python 3 (ipykernel)",
   "language": "python",
   "name": "python3"
  },
  "language_info": {
   "codemirror_mode": {
    "name": "ipython",
    "version": 3
   },
   "file_extension": ".py",
   "mimetype": "text/x-python",
   "name": "python",
   "nbconvert_exporter": "python",
   "pygments_lexer": "ipython3",
   "version": "3.10.9"
  }
 },
 "nbformat": 4,
 "nbformat_minor": 5
}
